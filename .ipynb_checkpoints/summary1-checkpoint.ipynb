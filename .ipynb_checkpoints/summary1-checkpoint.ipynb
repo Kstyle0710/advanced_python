{
 "cells": [
  {
   "cell_type": "code",
   "execution_count": 7,
   "id": "skilled-vacuum",
   "metadata": {},
   "outputs": [
    {
     "data": {
      "text/plain": [
       "[1, 2, 3, 4, 5, 6, 7, 8, 9]"
      ]
     },
     "execution_count": 7,
     "metadata": {},
     "output_type": "execute_result"
    }
   ],
   "source": [
    "ls1 = [x for x in range(1, 10)]\n",
    "ls1"
   ]
  },
  {
   "cell_type": "code",
   "execution_count": 16,
   "id": "wrapped-aside",
   "metadata": {},
   "outputs": [
    {
     "data": {
      "text/plain": [
       "<generator object <genexpr> at 0x00000256AEE81A48>"
      ]
     },
     "execution_count": 16,
     "metadata": {},
     "output_type": "execute_result"
    }
   ],
   "source": [
    "gs1 = (x for x in range(1, 10))\n",
    "gs1"
   ]
  },
  {
   "cell_type": "code",
   "execution_count": 17,
   "id": "stable-tablet",
   "metadata": {},
   "outputs": [
    {
     "data": {
      "text/plain": [
       "1"
      ]
     },
     "execution_count": 17,
     "metadata": {},
     "output_type": "execute_result"
    }
   ],
   "source": [
    "next(gs1)"
   ]
  },
  {
   "cell_type": "code",
   "execution_count": 18,
   "id": "affiliated-ministry",
   "metadata": {},
   "outputs": [
    {
     "data": {
      "text/plain": [
       "2"
      ]
     },
     "execution_count": 18,
     "metadata": {},
     "output_type": "execute_result"
    }
   ],
   "source": [
    "next(gs1)"
   ]
  },
  {
   "cell_type": "code",
   "execution_count": 21,
   "id": "beautiful-simon",
   "metadata": {},
   "outputs": [
    {
     "data": {
      "text/plain": [
       "<map at 0x256aeec1ec8>"
      ]
     },
     "execution_count": 21,
     "metadata": {},
     "output_type": "execute_result"
    }
   ],
   "source": [
    "result1 = map(lambda x : x*2, ls1)\n",
    "result1"
   ]
  },
  {
   "cell_type": "code",
   "execution_count": 22,
   "id": "lovely-console",
   "metadata": {},
   "outputs": [
    {
     "data": {
      "text/plain": [
       "True"
      ]
     },
     "execution_count": 22,
     "metadata": {},
     "output_type": "execute_result"
    }
   ],
   "source": [
    "hasattr(result1, \"__next__\")"
   ]
  },
  {
   "cell_type": "code",
   "execution_count": 23,
   "id": "raising-orange",
   "metadata": {},
   "outputs": [
    {
     "data": {
      "text/plain": [
       "[2, 4, 6, 8, 10, 12, 14, 16, 18]"
      ]
     },
     "execution_count": 23,
     "metadata": {},
     "output_type": "execute_result"
    }
   ],
   "source": [
    "result2 = [x for x in map(lambda x : x*2, ls1)]\n",
    "result2"
   ]
  },
  {
   "cell_type": "code",
   "execution_count": 24,
   "id": "covered-reunion",
   "metadata": {},
   "outputs": [
    {
     "data": {
      "text/plain": [
       "False"
      ]
     },
     "execution_count": 24,
     "metadata": {},
     "output_type": "execute_result"
    }
   ],
   "source": [
    "hasattr(result2, \"__next__\")"
   ]
  },
  {
   "cell_type": "code",
   "execution_count": null,
   "id": "billion-ethics",
   "metadata": {},
   "outputs": [],
   "source": []
  }
 ],
 "metadata": {
  "kernelspec": {
   "display_name": "Python 3",
   "language": "python",
   "name": "python3"
  },
  "language_info": {
   "codemirror_mode": {
    "name": "ipython",
    "version": 3
   },
   "file_extension": ".py",
   "mimetype": "text/x-python",
   "name": "python",
   "nbconvert_exporter": "python",
   "pygments_lexer": "ipython3",
   "version": "3.7.7"
  }
 },
 "nbformat": 4,
 "nbformat_minor": 5
}
