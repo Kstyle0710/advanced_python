{
 "cells": [
  {
   "cell_type": "code",
   "execution_count": 17,
   "id": "skilled-vacuum",
   "metadata": {},
   "outputs": [
    {
     "data": {
      "text/plain": [
       "[1, 2, 3, 4, 5, 6, 7, 8, 9]"
      ]
     },
     "execution_count": 17,
     "metadata": {},
     "output_type": "execute_result"
    }
   ],
   "source": [
    "## List\n",
    "ls1 = [x for x in range(1, 10)]\n",
    "ls1"
   ]
  },
  {
   "cell_type": "code",
   "execution_count": 30,
   "id": "wrapped-aside",
   "metadata": {},
   "outputs": [
    {
     "data": {
      "text/plain": [
       "<generator object <genexpr> at 0x00000210A4440EC8>"
      ]
     },
     "execution_count": 30,
     "metadata": {},
     "output_type": "execute_result"
    }
   ],
   "source": [
    "## Generator\n",
    "gs1 = (x for x in range(1, 10))\n",
    "gs1"
   ]
  },
  {
   "cell_type": "code",
   "execution_count": 31,
   "id": "stable-tablet",
   "metadata": {},
   "outputs": [
    {
     "data": {
      "text/plain": [
       "1"
      ]
     },
     "execution_count": 31,
     "metadata": {},
     "output_type": "execute_result"
    }
   ],
   "source": [
    "next(gs1)"
   ]
  },
  {
   "cell_type": "code",
   "execution_count": 32,
   "id": "beautiful-simon",
   "metadata": {},
   "outputs": [
    {
     "data": {
      "text/plain": [
       "<map at 0x210a5110d48>"
      ]
     },
     "execution_count": 32,
     "metadata": {},
     "output_type": "execute_result"
    }
   ],
   "source": [
    "result1 = map(lambda x : x*2, ls1)\n",
    "result1"
   ]
  },
  {
   "cell_type": "code",
   "execution_count": 33,
   "id": "lovely-console",
   "metadata": {},
   "outputs": [
    {
     "data": {
      "text/plain": [
       "(True, True)"
      ]
     },
     "execution_count": 33,
     "metadata": {},
     "output_type": "execute_result"
    }
   ],
   "source": [
    "hasattr(result1, \"__next__\"), hasattr(result1, \"__iter__\")"
   ]
  },
  {
   "cell_type": "code",
   "execution_count": 34,
   "id": "creative-bible",
   "metadata": {},
   "outputs": [
    {
     "data": {
      "text/plain": [
       "2"
      ]
     },
     "execution_count": 34,
     "metadata": {},
     "output_type": "execute_result"
    }
   ],
   "source": [
    "next(result1)"
   ]
  },
  {
   "cell_type": "code",
   "execution_count": 35,
   "id": "foster-texas",
   "metadata": {},
   "outputs": [
    {
     "data": {
      "text/plain": [
       "[2, 4, 6, 8, 10, 12, 14, 16, 18]"
      ]
     },
     "execution_count": 35,
     "metadata": {},
     "output_type": "execute_result"
    }
   ],
   "source": [
    "result2 = [x for x in map(lambda x : x*2, ls1)]\n",
    "result2"
   ]
  },
  {
   "cell_type": "code",
   "execution_count": 36,
   "id": "stunning-silence",
   "metadata": {},
   "outputs": [
    {
     "data": {
      "text/plain": [
       "(False, True)"
      ]
     },
     "execution_count": 36,
     "metadata": {},
     "output_type": "execute_result"
    }
   ],
   "source": [
    "hasattr(result2, \"__next__\"), hasattr(result2, \"__iter__\")"
   ]
  },
  {
   "cell_type": "code",
   "execution_count": 37,
   "id": "norwegian-breakdown",
   "metadata": {},
   "outputs": [
    {
     "data": {
      "text/plain": [
       "<map at 0x210a4edb208>"
      ]
     },
     "execution_count": 37,
     "metadata": {},
     "output_type": "execute_result"
    }
   ],
   "source": [
    "result3 = map(lambda x : x%2, ls1)\n",
    "result3"
   ]
  },
  {
   "cell_type": "code",
   "execution_count": 40,
   "id": "included-division",
   "metadata": {},
   "outputs": [
    {
     "data": {
      "text/plain": [
       "1"
      ]
     },
     "execution_count": 40,
     "metadata": {},
     "output_type": "execute_result"
    }
   ],
   "source": [
    "next(result3)"
   ]
  },
  {
   "cell_type": "code",
   "execution_count": 42,
   "id": "meaningful-control",
   "metadata": {},
   "outputs": [
    {
     "data": {
      "text/plain": [
       "[0, 1, 0, 1, 0, 1]"
      ]
     },
     "execution_count": 42,
     "metadata": {},
     "output_type": "execute_result"
    }
   ],
   "source": [
    "[x for x in result3]"
   ]
  },
  {
   "cell_type": "code",
   "execution_count": 41,
   "id": "romance-trainer",
   "metadata": {},
   "outputs": [
    {
     "data": {
      "text/plain": [
       "<filter at 0x210a5128988>"
      ]
     },
     "execution_count": 41,
     "metadata": {},
     "output_type": "execute_result"
    }
   ],
   "source": [
    "result4 = filter(lambda x : x%2, ls1)\n",
    "result4"
   ]
  },
  {
   "cell_type": "code",
   "execution_count": 43,
   "id": "likely-speaker",
   "metadata": {},
   "outputs": [
    {
     "data": {
      "text/plain": [
       "[1, 3, 5, 7, 9]"
      ]
     },
     "execution_count": 43,
     "metadata": {},
     "output_type": "execute_result"
    }
   ],
   "source": [
    "[x for x in result4]"
   ]
  },
  {
   "cell_type": "code",
   "execution_count": 44,
   "id": "embedded-infection",
   "metadata": {},
   "outputs": [
    {
     "data": {
      "text/plain": [
       "(True, True)"
      ]
     },
     "execution_count": 44,
     "metadata": {},
     "output_type": "execute_result"
    }
   ],
   "source": [
    "hasattr(result4, \"__next__\"), hasattr(result4, \"__iter__\")"
   ]
  },
  {
   "cell_type": "code",
   "execution_count": 52,
   "id": "static-division",
   "metadata": {},
   "outputs": [
    {
     "data": {
      "text/plain": [
       "<generator object <genexpr> at 0x00000210A50FED48>"
      ]
     },
     "execution_count": 52,
     "metadata": {},
     "output_type": "execute_result"
    }
   ],
   "source": [
    "result5 = (x for x in result4)\n",
    "result5"
   ]
  },
  {
   "cell_type": "code",
   "execution_count": 1,
   "id": "compound-subscription",
   "metadata": {},
   "outputs": [],
   "source": [
    "def generator_ex1():\n",
    "    print('Start')\n",
    "    yield 'A Point'    # A Point만 return 해주고 \"기억하고\" 멈춘다.\n",
    "    print('Continue')\n",
    "    yield 'B Point'\n",
    "    print('End')"
   ]
  },
  {
   "cell_type": "code",
   "execution_count": 5,
   "id": "rental-oakland",
   "metadata": {},
   "outputs": [],
   "source": [
    "try1 = generator_ex1()"
   ]
  },
  {
   "cell_type": "code",
   "execution_count": 9,
   "id": "palestinian-pearl",
   "metadata": {},
   "outputs": [
    {
     "data": {
      "text/plain": [
       "<generator object generator_ex1 at 0x0000020F4CBAE648>"
      ]
     },
     "execution_count": 9,
     "metadata": {},
     "output_type": "execute_result"
    }
   ],
   "source": [
    "try1"
   ]
  },
  {
   "cell_type": "code",
   "execution_count": 10,
   "id": "certain-denial",
   "metadata": {},
   "outputs": [
    {
     "name": "stdout",
     "output_type": "stream",
     "text": [
      "Start\n",
      "Continue\n",
      "End\n"
     ]
    }
   ],
   "source": [
    "temp2 = [x * 3 for x in generator_ex1()]     # dtype : class 'list'"
   ]
  },
  {
   "cell_type": "code",
   "execution_count": 12,
   "id": "finished-saskatchewan",
   "metadata": {},
   "outputs": [
    {
     "data": {
      "text/plain": [
       "<generator object <genexpr> at 0x0000020F4CC5F1C8>"
      ]
     },
     "execution_count": 12,
     "metadata": {},
     "output_type": "execute_result"
    }
   ],
   "source": [
    "temp3 = (x * 3 for x in generator_ex1())     # dtype : class 'generator'\n",
    "temp3"
   ]
  },
  {
   "cell_type": "code",
   "execution_count": 13,
   "id": "unsigned-expense",
   "metadata": {},
   "outputs": [
    {
     "name": "stdout",
     "output_type": "stream",
     "text": [
      "Start\n"
     ]
    },
    {
     "data": {
      "text/plain": [
       "'A PointA PointA Point'"
      ]
     },
     "execution_count": 13,
     "metadata": {},
     "output_type": "execute_result"
    }
   ],
   "source": [
    "next(temp3)"
   ]
  },
  {
   "cell_type": "code",
   "execution_count": 52,
   "id": "imperial-passage",
   "metadata": {},
   "outputs": [],
   "source": [
    "def coroutine2(x):\n",
    "    print('>>> coroutine started : {}'.format(x))\n",
    "    y = yield x   ## 서브루틴의 x를 메인루틴의 y로 전달\n",
    "    print('>>> coroutine recieved1 : {}'.format(y))\n",
    "    z = yield x + y\n",
    "    print('>>> coroutine received2 : {}'.format(z))"
   ]
  },
  {
   "cell_type": "code",
   "execution_count": 38,
   "id": "patient-hypothetical",
   "metadata": {},
   "outputs": [],
   "source": [
    "cr3 = coroutine2(10)"
   ]
  },
  {
   "cell_type": "code",
   "execution_count": 39,
   "id": "inside-relevance",
   "metadata": {},
   "outputs": [
    {
     "name": "stdout",
     "output_type": "stream",
     "text": [
      ">>> coroutine started : 10\n"
     ]
    },
    {
     "data": {
      "text/plain": [
       "10"
      ]
     },
     "execution_count": 39,
     "metadata": {},
     "output_type": "execute_result"
    }
   ],
   "source": [
    "next(cr3)"
   ]
  },
  {
   "cell_type": "code",
   "execution_count": 40,
   "id": "wooden-holder",
   "metadata": {},
   "outputs": [
    {
     "name": "stdout",
     "output_type": "stream",
     "text": [
      ">>> coroutine recieved1 : 20\n"
     ]
    },
    {
     "data": {
      "text/plain": [
       "30"
      ]
     },
     "execution_count": 40,
     "metadata": {},
     "output_type": "execute_result"
    }
   ],
   "source": [
    "cr3.send(20)"
   ]
  },
  {
   "cell_type": "code",
   "execution_count": 41,
   "id": "improving-field",
   "metadata": {},
   "outputs": [
    {
     "name": "stdout",
     "output_type": "stream",
     "text": [
      ">>> coroutine received2 : 100\n"
     ]
    },
    {
     "ename": "StopIteration",
     "evalue": "",
     "output_type": "error",
     "traceback": [
      "\u001b[1;31m---------------------------------------------------------------------------\u001b[0m",
      "\u001b[1;31mStopIteration\u001b[0m                             Traceback (most recent call last)",
      "\u001b[1;32m<ipython-input-41-37a9e2fd5d7f>\u001b[0m in \u001b[0;36m<module>\u001b[1;34m\u001b[0m\n\u001b[1;32m----> 1\u001b[1;33m \u001b[0mcr3\u001b[0m\u001b[1;33m.\u001b[0m\u001b[0msend\u001b[0m\u001b[1;33m(\u001b[0m\u001b[1;36m100\u001b[0m\u001b[1;33m)\u001b[0m\u001b[1;33m\u001b[0m\u001b[1;33m\u001b[0m\u001b[0m\n\u001b[0m",
      "\u001b[1;31mStopIteration\u001b[0m: "
     ]
    }
   ],
   "source": [
    "cr3.send(100)"
   ]
  },
  {
   "cell_type": "code",
   "execution_count": 42,
   "id": "structured-inventory",
   "metadata": {},
   "outputs": [],
   "source": [
    "from inspect import getgeneratorstate"
   ]
  },
  {
   "cell_type": "code",
   "execution_count": 43,
   "id": "direct-typing",
   "metadata": {},
   "outputs": [],
   "source": [
    "cr3 = coroutine2(10)"
   ]
  },
  {
   "cell_type": "code",
   "execution_count": 44,
   "id": "basic-silence",
   "metadata": {},
   "outputs": [
    {
     "data": {
      "text/plain": [
       "'GEN_CREATED'"
      ]
     },
     "execution_count": 44,
     "metadata": {},
     "output_type": "execute_result"
    }
   ],
   "source": [
    "getgeneratorstate(cr3)"
   ]
  },
  {
   "cell_type": "code",
   "execution_count": 45,
   "id": "least-county",
   "metadata": {},
   "outputs": [
    {
     "name": "stdout",
     "output_type": "stream",
     "text": [
      ">>> coroutine started : 10\n"
     ]
    },
    {
     "data": {
      "text/plain": [
       "10"
      ]
     },
     "execution_count": 45,
     "metadata": {},
     "output_type": "execute_result"
    }
   ],
   "source": [
    "next(cr3)"
   ]
  },
  {
   "cell_type": "code",
   "execution_count": 46,
   "id": "deadly-blowing",
   "metadata": {},
   "outputs": [
    {
     "data": {
      "text/plain": [
       "'GEN_SUSPENDED'"
      ]
     },
     "execution_count": 46,
     "metadata": {},
     "output_type": "execute_result"
    }
   ],
   "source": [
    "getgeneratorstate(cr3)"
   ]
  },
  {
   "cell_type": "code",
   "execution_count": 47,
   "id": "offshore-toddler",
   "metadata": {},
   "outputs": [
    {
     "name": "stdout",
     "output_type": "stream",
     "text": [
      ">>> coroutine recieved1 : 30\n"
     ]
    },
    {
     "data": {
      "text/plain": [
       "40"
      ]
     },
     "execution_count": 47,
     "metadata": {},
     "output_type": "execute_result"
    }
   ],
   "source": [
    "cr3.send(30)"
   ]
  },
  {
   "cell_type": "code",
   "execution_count": 48,
   "id": "disciplinary-arlington",
   "metadata": {},
   "outputs": [
    {
     "data": {
      "text/plain": [
       "'GEN_SUSPENDED'"
      ]
     },
     "execution_count": 48,
     "metadata": {},
     "output_type": "execute_result"
    }
   ],
   "source": [
    "getgeneratorstate(cr3)"
   ]
  },
  {
   "cell_type": "code",
   "execution_count": 49,
   "id": "modular-starter",
   "metadata": {},
   "outputs": [
    {
     "name": "stdout",
     "output_type": "stream",
     "text": [
      ">>> coroutine received2 : 100\n"
     ]
    },
    {
     "ename": "StopIteration",
     "evalue": "",
     "output_type": "error",
     "traceback": [
      "\u001b[1;31m---------------------------------------------------------------------------\u001b[0m",
      "\u001b[1;31mStopIteration\u001b[0m                             Traceback (most recent call last)",
      "\u001b[1;32m<ipython-input-49-37a9e2fd5d7f>\u001b[0m in \u001b[0;36m<module>\u001b[1;34m\u001b[0m\n\u001b[1;32m----> 1\u001b[1;33m \u001b[0mcr3\u001b[0m\u001b[1;33m.\u001b[0m\u001b[0msend\u001b[0m\u001b[1;33m(\u001b[0m\u001b[1;36m100\u001b[0m\u001b[1;33m)\u001b[0m\u001b[1;33m\u001b[0m\u001b[1;33m\u001b[0m\u001b[0m\n\u001b[0m",
      "\u001b[1;31mStopIteration\u001b[0m: "
     ]
    }
   ],
   "source": [
    "cr3.send(100)"
   ]
  },
  {
   "cell_type": "code",
   "execution_count": 50,
   "id": "mexican-indication",
   "metadata": {},
   "outputs": [
    {
     "data": {
      "text/plain": [
       "'GEN_CLOSED'"
      ]
     },
     "execution_count": 50,
     "metadata": {},
     "output_type": "execute_result"
    }
   ],
   "source": [
    "getgeneratorstate(cr3)"
   ]
  },
  {
   "cell_type": "code",
   "execution_count": 59,
   "id": "voluntary-accommodation",
   "metadata": {},
   "outputs": [],
   "source": [
    "def generator1():\n",
    "    for x in 'AB':\n",
    "        yield x\n",
    "    for y in range(1, 3):\n",
    "        yield y"
   ]
  },
  {
   "cell_type": "code",
   "execution_count": 69,
   "id": "finite-difficulty",
   "metadata": {},
   "outputs": [],
   "source": [
    "t1 = generator1()"
   ]
  },
  {
   "cell_type": "code",
   "execution_count": 74,
   "id": "artistic-native",
   "metadata": {},
   "outputs": [
    {
     "ename": "StopIteration",
     "evalue": "",
     "output_type": "error",
     "traceback": [
      "\u001b[1;31m---------------------------------------------------------------------------\u001b[0m",
      "\u001b[1;31mStopIteration\u001b[0m                             Traceback (most recent call last)",
      "\u001b[1;32m<ipython-input-74-3bdd6431ffd7>\u001b[0m in \u001b[0;36m<module>\u001b[1;34m\u001b[0m\n\u001b[0;32m      1\u001b[0m \u001b[0mgetgeneratorstate\u001b[0m\u001b[1;33m(\u001b[0m\u001b[0mt1\u001b[0m\u001b[1;33m)\u001b[0m\u001b[1;33m\u001b[0m\u001b[1;33m\u001b[0m\u001b[0m\n\u001b[1;32m----> 2\u001b[1;33m \u001b[0mprint\u001b[0m\u001b[1;33m(\u001b[0m\u001b[0mnext\u001b[0m\u001b[1;33m(\u001b[0m\u001b[0mt1\u001b[0m\u001b[1;33m)\u001b[0m\u001b[1;33m)\u001b[0m\u001b[1;33m\u001b[0m\u001b[1;33m\u001b[0m\u001b[0m\n\u001b[0m\u001b[0;32m      3\u001b[0m \u001b[0mgetgeneratorstate\u001b[0m\u001b[1;33m(\u001b[0m\u001b[0mt1\u001b[0m\u001b[1;33m)\u001b[0m\u001b[1;33m\u001b[0m\u001b[1;33m\u001b[0m\u001b[0m\n",
      "\u001b[1;31mStopIteration\u001b[0m: "
     ]
    }
   ],
   "source": [
    "getgeneratorstate(t1)\n",
    "print(next(t1))\n",
    "getgeneratorstate(t1)"
   ]
  },
  {
   "cell_type": "code",
   "execution_count": 75,
   "id": "secondary-threat",
   "metadata": {},
   "outputs": [],
   "source": [
    "def generator2():\n",
    "    yield from 'AB'\n",
    "    yield from range(1, 3)"
   ]
  },
  {
   "cell_type": "code",
   "execution_count": 76,
   "id": "considered-chester",
   "metadata": {},
   "outputs": [],
   "source": [
    "t1 = generator1()"
   ]
  },
  {
   "cell_type": "code",
   "execution_count": 81,
   "id": "subsequent-clear",
   "metadata": {},
   "outputs": [
    {
     "ename": "StopIteration",
     "evalue": "",
     "output_type": "error",
     "traceback": [
      "\u001b[1;31m---------------------------------------------------------------------------\u001b[0m",
      "\u001b[1;31mStopIteration\u001b[0m                             Traceback (most recent call last)",
      "\u001b[1;32m<ipython-input-81-3bdd6431ffd7>\u001b[0m in \u001b[0;36m<module>\u001b[1;34m\u001b[0m\n\u001b[0;32m      1\u001b[0m \u001b[0mgetgeneratorstate\u001b[0m\u001b[1;33m(\u001b[0m\u001b[0mt1\u001b[0m\u001b[1;33m)\u001b[0m\u001b[1;33m\u001b[0m\u001b[1;33m\u001b[0m\u001b[0m\n\u001b[1;32m----> 2\u001b[1;33m \u001b[0mprint\u001b[0m\u001b[1;33m(\u001b[0m\u001b[0mnext\u001b[0m\u001b[1;33m(\u001b[0m\u001b[0mt1\u001b[0m\u001b[1;33m)\u001b[0m\u001b[1;33m)\u001b[0m\u001b[1;33m\u001b[0m\u001b[1;33m\u001b[0m\u001b[0m\n\u001b[0m\u001b[0;32m      3\u001b[0m \u001b[0mgetgeneratorstate\u001b[0m\u001b[1;33m(\u001b[0m\u001b[0mt1\u001b[0m\u001b[1;33m)\u001b[0m\u001b[1;33m\u001b[0m\u001b[1;33m\u001b[0m\u001b[0m\n",
      "\u001b[1;31mStopIteration\u001b[0m: "
     ]
    }
   ],
   "source": [
    "getgeneratorstate(t1)\n",
    "print(next(t1))\n",
    "getgeneratorstate(t1)"
   ]
  },
  {
   "cell_type": "code",
   "execution_count": null,
   "id": "alert-height",
   "metadata": {},
   "outputs": [],
   "source": []
  }
 ],
 "metadata": {
  "kernelspec": {
   "display_name": "Python 3",
   "language": "python",
   "name": "python3"
  },
  "language_info": {
   "codemirror_mode": {
    "name": "ipython",
    "version": 3
   },
   "file_extension": ".py",
   "mimetype": "text/x-python",
   "name": "python",
   "nbconvert_exporter": "python",
   "pygments_lexer": "ipython3",
   "version": "3.7.7"
  }
 },
 "nbformat": 4,
 "nbformat_minor": 5
}
